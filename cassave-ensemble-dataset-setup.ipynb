{
 "metadata": {
  "language_info": {
   "codemirror_mode": {
    "name": "ipython",
    "version": 3
   },
   "file_extension": ".py",
   "mimetype": "text/x-python",
   "name": "python",
   "nbconvert_exporter": "python",
   "pygments_lexer": "ipython3",
   "version": "3.8.5-final"
  },
  "orig_nbformat": 2,
  "kernelspec": {
   "name": "python3",
   "display_name": "Python 3",
   "language": "python"
  }
 },
 "nbformat": 4,
 "nbformat_minor": 2,
 "cells": [
  {
   "cell_type": "code",
   "execution_count": null,
   "metadata": {},
   "outputs": [],
   "source": [
    "!pip install --upgrade --force-reinstall kaggle"
   ]
  },
  {
   "cell_type": "code",
   "execution_count": null,
   "metadata": {},
   "outputs": [],
   "source": [
    "!rm -rf ~/.kaggle"
   ]
  },
  {
   "cell_type": "code",
   "execution_count": null,
   "metadata": {},
   "outputs": [],
   "source": [
    "! mkdir ~/.kaggle"
   ]
  },
  {
   "cell_type": "code",
   "execution_count": null,
   "metadata": {},
   "outputs": [],
   "source": [
    "!echo '{\"username\":\"codenamekash\",\"key\":\"8209e28232ec8c6457d49e8c7422f1fd\"}' > kaggle.json"
   ]
  },
  {
   "cell_type": "code",
   "execution_count": null,
   "metadata": {},
   "outputs": [],
   "source": [
    "! cp kaggle.json ~/.kaggle/"
   ]
  },
  {
   "cell_type": "code",
   "execution_count": null,
   "metadata": {},
   "outputs": [],
   "source": [
    "! chmod 600 ~/.kaggle/kaggle.json"
   ]
  },
  {
   "cell_type": "code",
   "execution_count": null,
   "metadata": {},
   "outputs": [],
   "source": [
    "!mkdir download"
   ]
  },
  {
   "cell_type": "code",
   "execution_count": null,
   "metadata": {},
   "outputs": [],
   "source": [
    "! kaggle competitions download -c 'cassava-leaf-disease-classification' -p 'download' && unzip -qq download/cassava-leaf-disease-classification.zip -d input/cassava-leaf-disease-classification && rm download/cassava-leaf-disease-classification.zip\n"
   ]
  },
  {
   "cell_type": "code",
   "execution_count": null,
   "metadata": {},
   "outputs": [],
   "source": [
    "!kaggle datasets download -d 'codenamekash/efficientnet' -p 'download'&& unzip -qq download/efficientnet.zip -d input/efficientnet && rm download/efficientnet.zip\n"
   ]
  },
  {
   "cell_type": "code",
   "execution_count": null,
   "metadata": {},
   "outputs": [],
   "source": [
    "\n",
    "!kaggle datasets download -d 'codenamekash/kerasapplications' -p 'download'&& unzip -qq download/kerasapplications.zip -d input/kerasapplications && rm download/kerasapplications.zip"
   ]
  },
  {
   "cell_type": "code",
   "execution_count": null,
   "metadata": {},
   "outputs": [],
   "source": [
    "!kaggle datasets download -d 'codenamekash/cassava-leaf-disease-efficient-and-dense-net' -p 'download' && unzip -qq download/cassava-leaf-disease-efficient-and-dense-net.zip -d input/cassava-leaf-disease-efficient-and-dense-net && rm download/cassava-leaf-disease-efficient-and-dense-net.zip\n"
   ]
  },
  {
   "cell_type": "code",
   "execution_count": null,
   "metadata": {},
   "outputs": [],
   "source": [
    "\n",
    "!kaggle datasets download -d 'codenamekash/cassava-leaf-disease-resnet50-model' -p 'download'&& unzip -qq download/cassava-leaf-disease-resnet50-model.zip -d input/cassava-leaf-disease-resnet50-model && rm download/cassava-leaf-disease-resnet50-model.zip"
   ]
  },
  {
   "cell_type": "code",
   "execution_count": null,
   "metadata": {},
   "outputs": [],
   "source": [
    "\n",
    "!kaggle datasets download -d 'codenamekash/cassava-leaf-disease-resnet101-model' -p 'download'&& unzip -qq download/cassava-leaf-disease-resnet101-model.zip -d input/cassava-leaf-disease-resnet101-model && rm download/cassava-leaf-disease-resnet101-model.zip"
   ]
  },
  {
   "cell_type": "code",
   "execution_count": null,
   "metadata": {},
   "outputs": [],
   "source": [
    "\n",
    "!kaggle datasets download -d 'codenamekash/cassava-leaf-disease-resnext101-model' -p 'download'&& unzip -qq download/cassava-leaf-disease-resnext101-model.zip -d input/cassava-leaf-disease-resnext101-model && rm download/cassava-leaf-disease-resnext101-model.zip"
   ]
  }
 ]
}