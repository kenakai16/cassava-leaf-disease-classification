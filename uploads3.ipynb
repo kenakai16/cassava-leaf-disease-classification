{
 "cells": [
  {
   "cell_type": "code",
   "execution_count": 9,
   "metadata": {},
   "outputs": [],
   "source": [
    "your_bucket = 'cassava-leaf-dataset'"
   ]
  },
  {
   "cell_type": "code",
   "execution_count": 10,
   "metadata": {},
   "outputs": [],
   "source": [
    "import boto3, os\n"
   ]
  },
  {
   "cell_type": "code",
   "execution_count": 11,
   "metadata": {},
   "outputs": [],
   "source": [
    "def uploadDirectory(path,bucketname):\n",
    "        for root,dirs,files in os.walk(path):\n",
    "            for file in files:\n",
    "                print(\"uploading ...\",os.path.join(root,file))\n",
    "                s3.Bucket(bucketname).Object(os.path.join(root,file)).upload_file(os.path.join(root,file))"
   ]
  },
  {
   "cell_type": "code",
   "execution_count": 12,
   "metadata": {},
   "outputs": [],
   "source": [
    "s3 = boto3.Session().resource('s3')"
   ]
  },
  {
   "cell_type": "code",
   "execution_count": null,
   "metadata": {},
   "outputs": [
    {
     "name": "stdout",
     "output_type": "stream",
     "text": [
      "uploading ... input/cassava-leaf-disease-resnet50-model/submission.csv\n",
      "uploading ... input/cassava-leaf-disease-resnet50-model/resnet50/fold-1.h5\n",
      "uploading ... input/cassava-leaf-disease-resnet50-model/resnet50/fold-3.h5\n",
      "uploading ... input/cassava-leaf-disease-resnet50-model/resnet50/fold-2.h5\n",
      "uploading ... input/cassava-leaf-disease-resnet50-model/resnet50/fold-0.h5\n",
      "uploading ... input/cassava-leaf-disease-resnet50-model/resnet50/fold-4.h5\n",
      "uploading ... input/cassava-leaf-disease-classification/label_num_to_disease_map.json\n",
      "uploading ... input/cassava-leaf-disease-classification/train.csv\n",
      "uploading ... input/cassava-leaf-disease-classification/sample_submission.csv\n",
      "uploading ... input/cassava-leaf-disease-classification/train_images/929341901.jpg\n",
      "uploading ... input/cassava-leaf-disease-classification/train_images/2092954094.jpg\n",
      "uploading ... input/cassava-leaf-disease-classification/train_images/3985545704.jpg\n",
      "uploading ... input/cassava-leaf-disease-classification/train_images/1264210768.jpg\n",
      "uploading ... input/cassava-leaf-disease-classification/train_images/1660974563.jpg\n",
      "uploading ... input/cassava-leaf-disease-classification/train_images/1737267770.jpg\n",
      "uploading ... input/cassava-leaf-disease-classification/train_images/4287369745.jpg\n",
      "uploading ... input/cassava-leaf-disease-classification/train_images/1199307978.jpg\n",
      "uploading ... input/cassava-leaf-disease-classification/train_images/1445197304.jpg\n",
      "uploading ... input/cassava-leaf-disease-classification/train_images/3378948686.jpg\n",
      "uploading ... input/cassava-leaf-disease-classification/train_images/3758960984.jpg\n",
      "uploading ... input/cassava-leaf-disease-classification/train_images/2342986472.jpg\n",
      "uploading ... input/cassava-leaf-disease-classification/train_images/4007234267.jpg\n",
      "uploading ... input/cassava-leaf-disease-classification/train_images/623023838.jpg\n",
      "uploading ... input/cassava-leaf-disease-classification/train_images/3724194878.jpg\n",
      "uploading ... input/cassava-leaf-disease-classification/train_images/1963478389.jpg\n",
      "uploading ... input/cassava-leaf-disease-classification/train_images/2253776549.jpg\n",
      "uploading ... input/cassava-leaf-disease-classification/train_images/307854780.jpg\n",
      "uploading ... input/cassava-leaf-disease-classification/train_images/2217598381.jpg\n",
      "uploading ... input/cassava-leaf-disease-classification/train_images/726063333.jpg\n",
      "uploading ... input/cassava-leaf-disease-classification/train_images/2233774381.jpg\n",
      "uploading ... input/cassava-leaf-disease-classification/train_images/3638899737.jpg\n",
      "uploading ... input/cassava-leaf-disease-classification/train_images/1467013216.jpg\n",
      "uploading ... input/cassava-leaf-disease-classification/train_images/20966306.jpg\n",
      "uploading ... input/cassava-leaf-disease-classification/train_images/1610261213.jpg\n",
      "uploading ... input/cassava-leaf-disease-classification/train_images/1208561216.jpg\n",
      "uploading ... input/cassava-leaf-disease-classification/train_images/1584105518.jpg\n",
      "uploading ... input/cassava-leaf-disease-classification/train_images/3997582442.jpg\n",
      "uploading ... input/cassava-leaf-disease-classification/train_images/2177099962.jpg\n"
     ]
    }
   ],
   "source": [
    "uploadDirectory('input',your_bucket)"
   ]
  }
 ],
 "metadata": {
  "kernelspec": {
   "display_name": "conda_tensorflow_p36",
   "language": "python",
   "name": "conda_tensorflow_p36"
  },
  "language_info": {
   "codemirror_mode": {
    "name": "ipython",
    "version": 3
   },
   "file_extension": ".py",
   "mimetype": "text/x-python",
   "name": "python",
   "nbconvert_exporter": "python",
   "pygments_lexer": "ipython3",
   "version": "3.6.10"
  }
 },
 "nbformat": 4,
 "nbformat_minor": 4
}
